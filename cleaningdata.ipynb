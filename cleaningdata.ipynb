{
 "cells": [
  {
   "cell_type": "code",
   "execution_count": null,
   "metadata": {
    "vscode": {
     "languageId": "plaintext"
    }
   },
   "outputs": [],
   "source": [
    "#cleaning data \n",
    "import pandas as pd\n",
    "\n",
    "# Load the CSV file to inspect its contents\n",
    "file_path = 'C:/Users/ADMIN/Desktop/funddatascience/ecommerce_customer_data_large.csv'\n",
    "data = pd.read_csv(file_path)\n",
    "\n",
    "# Display basic information and first few rows of the dataset to assess its structure\n",
    "data_info = data.info()\n",
    "data_head = data.head()\n",
    "\n",
    "data_info, data_head\n",
    "\n",
    "# Step 1: Remove duplicate 'Age' column\n",
    "data_cleaned = data.drop(columns=['Age'])\n",
    "\n",
    "# Step 2: Convert 'Purchase Date' to datetime format\n",
    "data_cleaned['Purchase Date'] = pd.to_datetime(data_cleaned['Purchase Date'], format='%Y-%m-%d %H:%M:%S')\n",
    "\n",
    "# Step 3: Handle missing values in 'Returns' column\n",
    "# Since 'Returns' indicates whether a purchase was returned (1.0) or not (0.0),\n",
    "# we can assume missing values mean no return (0.0)\n",
    "data_cleaned['Returns'].fillna(0.0, inplace=True)\n",
    "\n",
    "# Step 4: Verify 'Total Purchase Amount' consistency\n",
    "# Calculate if Total Purchase Amount matches Product Price * Quantity\n",
    "data_cleaned['Calculated Total'] = data_cleaned['Product Price'] * data_cleaned['Quantity']\n",
    "inconsistent_totals = data_cleaned[data_cleaned['Total Purchase Amount'] != data_cleaned['Calculated Total']]\n",
    "\n",
    "# Remove the 'Calculated Total' column after the check\n",
    "data_cleaned.drop(columns=['Calculated Total'], inplace=True)\n",
    "\n",
    "# Output results\n",
    "data_cleaned_info = data_cleaned.info()\n",
    "inconsistent_totals_count = inconsistent_totals.shape[0]\n",
    "\n",
    "data_cleaned_info, inconsistent_totals_count\n",
    "\n",
    "# Save the cleaned data to a CSV file\n",
    "data_cleaned.to_csv('C:/Users/ADMIN/Desktop/funddatascience/ecommerce_customer_data_large - preprocessed.csv', index=False)\n"
   ]
  }
 ],
 "metadata": {
  "language_info": {
   "name": "python"
  }
 },
 "nbformat": 4,
 "nbformat_minor": 2
}
