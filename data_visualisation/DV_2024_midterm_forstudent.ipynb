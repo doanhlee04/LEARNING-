{
  "cells": [
    {
      "cell_type": "code",
      "execution_count": null,
      "metadata": {
        "colab": {
          "base_uri": "https://localhost:8080/",
          "height": 697
        },
        "id": "z5kNlLniIPdW",
        "outputId": "a5a686fa-98eb-41ca-86e6-b6a0bc01231a"
      },
      "outputs": [
        {
          "name": "stdout",
          "output_type": "stream",
          "text": [
            "Collecting netCDF4\n",
            "  Downloading netCDF4-1.6.4-cp310-cp310-manylinux_2_17_x86_64.manylinux2014_x86_64.whl (5.4 MB)\n",
            "\u001b[2K     \u001b[90m━━━━━━━━━━━━━━━━━━━━━━━━━━━━━━━━━━━━━━━━\u001b[0m \u001b[32m5.4/5.4 MB\u001b[0m \u001b[31m34.1 MB/s\u001b[0m eta \u001b[36m0:00:00\u001b[0m\n",
            "\u001b[?25hCollecting cftime (from netCDF4)\n",
            "  Downloading cftime-1.6.2-cp310-cp310-manylinux_2_17_x86_64.manylinux2014_x86_64.whl (1.2 MB)\n",
            "\u001b[2K     \u001b[90m━━━━━━━━━━━━━━━━━━━━━━━━━━━━━━━━━━━━━━━━\u001b[0m \u001b[32m1.2/1.2 MB\u001b[0m \u001b[31m64.9 MB/s\u001b[0m eta \u001b[36m0:00:00\u001b[0m\n",
            "\u001b[?25hRequirement already satisfied: certifi in /usr/local/lib/python3.10/dist-packages (from netCDF4) (2023.7.22)\n",
            "Requirement already satisfied: numpy in /usr/local/lib/python3.10/dist-packages (from netCDF4) (1.23.5)\n",
            "Installing collected packages: cftime, netCDF4\n",
            "Successfully installed cftime-1.6.2 netCDF4-1.6.4\n",
            "Collecting basemap\n",
            "  Downloading basemap-1.3.8-cp310-cp310-manylinux1_x86_64.whl (860 kB)\n",
            "\u001b[2K     \u001b[90m━━━━━━━━━━━━━━━━━━━━━━━━━━━━━━━━━━━━━━\u001b[0m \u001b[32m860.7/860.7 kB\u001b[0m \u001b[31m13.3 MB/s\u001b[0m eta \u001b[36m0:00:00\u001b[0m\n",
            "\u001b[?25hCollecting basemap-data<1.4,>=1.3.2 (from basemap)\n",
            "  Downloading basemap_data-1.3.2-py2.py3-none-any.whl (30.5 MB)\n",
            "\u001b[2K     \u001b[90m━━━━━━━━━━━━━━━━━━━━━━━━━━━━━━━━━━━━━━━━\u001b[0m \u001b[32m30.5/30.5 MB\u001b[0m \u001b[31m43.5 MB/s\u001b[0m eta \u001b[36m0:00:00\u001b[0m\n",
            "\u001b[?25hRequirement already satisfied: pyshp<2.4,>=1.2 in /usr/local/lib/python3.10/dist-packages (from basemap) (2.3.1)\n",
            "Requirement already satisfied: matplotlib<3.8,>=1.5 in /usr/local/lib/python3.10/dist-packages (from basemap) (3.7.1)\n",
            "Requirement already satisfied: pyproj<3.7.0,>=1.9.3 in /usr/local/lib/python3.10/dist-packages (from basemap) (3.6.0)\n",
            "Requirement already satisfied: numpy<1.26,>=1.21 in /usr/local/lib/python3.10/dist-packages (from basemap) (1.23.5)\n",
            "Requirement already satisfied: contourpy>=1.0.1 in /usr/local/lib/python3.10/dist-packages (from matplotlib<3.8,>=1.5->basemap) (1.1.0)\n",
            "Requirement already satisfied: cycler>=0.10 in /usr/local/lib/python3.10/dist-packages (from matplotlib<3.8,>=1.5->basemap) (0.11.0)\n",
            "Requirement already satisfied: fonttools>=4.22.0 in /usr/local/lib/python3.10/dist-packages (from matplotlib<3.8,>=1.5->basemap) (4.42.1)\n",
            "Requirement already satisfied: kiwisolver>=1.0.1 in /usr/local/lib/python3.10/dist-packages (from matplotlib<3.8,>=1.5->basemap) (1.4.5)\n",
            "Requirement already satisfied: packaging>=20.0 in /usr/local/lib/python3.10/dist-packages (from matplotlib<3.8,>=1.5->basemap) (23.1)\n",
            "Requirement already satisfied: pillow>=6.2.0 in /usr/local/lib/python3.10/dist-packages (from matplotlib<3.8,>=1.5->basemap) (9.4.0)\n",
            "Requirement already satisfied: pyparsing>=2.3.1 in /usr/local/lib/python3.10/dist-packages (from matplotlib<3.8,>=1.5->basemap) (3.1.1)\n",
            "Requirement already satisfied: python-dateutil>=2.7 in /usr/local/lib/python3.10/dist-packages (from matplotlib<3.8,>=1.5->basemap) (2.8.2)\n",
            "Requirement already satisfied: certifi in /usr/local/lib/python3.10/dist-packages (from pyproj<3.7.0,>=1.9.3->basemap) (2023.7.22)\n",
            "Requirement already satisfied: six>=1.5 in /usr/local/lib/python3.10/dist-packages (from python-dateutil>=2.7->matplotlib<3.8,>=1.5->basemap) (1.16.0)\n",
            "Installing collected packages: basemap-data, basemap\n",
            "Successfully installed basemap-1.3.8 basemap-data-1.3.2\n"
          ]
        },
        {
          "data": {
            "application/vnd.colab-display-data+json": {
              "pip_warning": {
                "packages": [
                  "mpl_toolkits"
                ]
              }
            }
          },
          "metadata": {},
          "output_type": "display_data"
        }
      ],
      "source": [
        "!pip install netCDF4\n",
        "!pip install basemap"
      ]
    },
    {
      "cell_type": "markdown",
      "metadata": {
        "id": "cUjIcprfgNtw"
      },
      "source": [
        "#EX1 (4 points):\n",
        "\n",
        "Please download the file **Data_EX1.txt** here https://drive.google.com/file/d/17HIftj9hevOsFTe4WkZ1zWNtTKVlI4dH/view?usp=drive_link\n",
        "\n",
        "In this file, the first line show the year of the observation. Then, each row is the number of days in months, from days 1 to days 31, each column is a month, from January to December.\n",
        "\n",
        "In short, we have daily value of an observation from 01 Jan 2009 to 31 Dec 2009. value = -99 and 99 mean that they are the missing values. Remove it.\n",
        "\n",
        " \n",
        "\n",
        "![](https://i.imgur.com/MyOEcn4.png)\n"
      ]
    },
    {
      "cell_type": "code",
      "execution_count": null,
      "metadata": {
        "id": "Q6Ce4-48gB0U"
      },
      "outputs": [],
      "source": [
        "#----#----#----#----#----#----#\n",
        "# EX1: Basic text processing and line plot\n",
        "#----#----#----#----#----#----#\n",
        "\n"
      ]
    },
    {
      "cell_type": "markdown",
      "metadata": {
        "id": "opJdTsYqguID"
      },
      "source": [
        "---\n",
        "\n",
        "---"
      ]
    },
    {
      "cell_type": "markdown",
      "metadata": {
        "id": "8G4_sARpgW8v"
      },
      "source": [
        "#EX2 (3 points):\n",
        "Using the same file as excercise 1. **Draw the heatmap of temperature in 2009**\n",
        "Note: the colorbar and color palette must be the same as the sample plot the get the maximum points.\n",
        "![](https://i.imgur.com/A9oxj1B.png)\n"
      ]
    },
    {
      "cell_type": "code",
      "execution_count": null,
      "metadata": {
        "id": "bGQHM6DFgXdz"
      },
      "outputs": [],
      "source": [
        "#----#----#----#----#----#----#\n",
        "# EX2: Heat map\n",
        "#----#----#----#----#----#----#\n",
        "\n",
        "\n"
      ]
    },
    {
      "cell_type": "markdown",
      "metadata": {
        "id": "1VjdC1tegopS"
      },
      "source": [
        "---\n",
        "\n",
        "---"
      ]
    },
    {
      "cell_type": "markdown",
      "metadata": {
        "id": "rYR0aRLBgxK6"
      },
      "source": [
        "#EX3 (3 points):\n",
        "\n",
        "Using the same input file as excercise 1. Draw the boxplot for 12 months. Plot the annual mean of data\n",
        "\n",
        "![](https://i.imgur.com/SOXkep5.png)"
      ]
    },
    {
      "cell_type": "code",
      "execution_count": null,
      "metadata": {
        "id": "MgiifB3ihCO9"
      },
      "outputs": [],
      "source": [
        "#----#----#----#----#----#----#\n",
        "# EX3: Box plot\n",
        "#----#----#----#----#----#----#\n",
        "\n",
        "\n",
        "\n",
        "\n",
        "\n",
        "\n",
        "\n",
        "\n"
      ]
    },
    {
      "cell_type": "markdown",
      "metadata": {
        "id": "RWF6lamjgxeq"
      },
      "source": [
        "---\n",
        "\n",
        "---\n"
      ]
    },
    {
      "cell_type": "markdown",
      "metadata": {
        "id": "xeUzIJJpD-tC"
      },
      "source": [
        "#EX4 (3 points):\n",
        "Use the netcdf file here: https://drive.google.com/uc?export=download&id=1z_5vyOMWLLD_h5gOV3RvxlsbHdCr-XXz\n",
        "Load the file. Read the variable 'T2'.\n",
        "1. Draw 3 maps of temperature, at [0,6,12] hour. Each color in the color bars represents a temperature change of 0.5°C. The colormaps of the first two maps are 'jet' and the last map is 'binary'.\n",
        "2. Draw the borderline of Hanoi, , using the shapefile of GADM (https://gadm.org/download_country.html)\n",
        "-------\n",
        "![](https://i.imgur.com/ExTeime.png)"
      ]
    },
    {
      "cell_type": "code",
      "execution_count": null,
      "metadata": {
        "id": "J_F7R1rsDxFU"
      },
      "outputs": [],
      "source": [
        "#----#----#----#----#----#----#\n",
        "# EX4: Basic netcdf processing\n",
        "#----#----#----#----#----#----#\n",
        "\n",
        "\n",
        "\n",
        "\n",
        "\n",
        "\n",
        "\n",
        "\n",
        "\n",
        "\n",
        "\n",
        "\n"
      ]
    },
    {
      "cell_type": "markdown",
      "metadata": {
        "id": "WicdmxEUhSo6"
      },
      "source": [
        "#EX5 (7 points):\n",
        "\n",
        "\n",
        "\n",
        "\n",
        "**ENSO**\n",
        "\n",
        "We have an index called Nino3.4 that quantifies ENSO (El Niño-Southern Oscillation).\n",
        "Nino3.4 is calculated using SST (sea surface temperature) anomalies averged over the area from 5S-5N and 170-120W in the Tropical Pacific.\n",
        "\n",
        "***Nino3.4 extended of a month = Area average over [5S-5N and 170W-120W] of (SST of this month minus mean SST over a long period (e.g. 30 years))***\n",
        "\n",
        "When it is large and positive, we say there is an El Nino. When it is large and negative, we say there is a La Nina. In between, we say it is neutral.\n",
        "\n",
        "**SST**\n",
        "\n",
        "We will use the SST Monthly Data located in: https://drive.google.com/file/d/10vJE9bbwkPCqjLtZNTC0nPQ7IPgtNJjy/view?usp=share_link\n",
        "\n",
        "**Defining El Nino, La Nina, and Neutral**\n",
        "\n",
        "Nino3.4 >= 1 -> El Nino\n",
        "\n",
        "Nino3.4 <= -1 -> La Nina\n",
        "\n",
        "Nino3.4 > -1 and Nino3.4 < 1 -> Neutral\n",
        "\n",
        "\n",
        "\n",
        "Draw the Nino3.4 index.\n",
        "\n",
        "![link text](https://i.imgur.com/aVO5dz2.png)"
      ]
    },
    {
      "cell_type": "code",
      "execution_count": null,
      "metadata": {
        "id": "7VlzVVzDhiqf"
      },
      "outputs": [],
      "source": [
        "#----#----#----#----#----#----#\n",
        "# EX4.1: PUT YOUR CODE HERE\n",
        "#----#----#----#----#----#----#\n",
        "\n",
        "\n",
        "\n",
        "\n",
        "\n",
        "\n",
        "\n",
        "\n",
        "\n",
        "\n",
        "\n"
      ]
    },
    {
      "cell_type": "markdown",
      "metadata": {
        "id": "dMkRff1b79mK"
      },
      "source": [
        "Now, we would like to know more about the precipitation during the different ENSO phase.\n",
        "# **Precipitation Data**\n",
        "\n",
        "We will use the Global Precipitation Climatology Project (GPCP) Monthly Precipitation Data located in:\n",
        "\n",
        "https://drive.google.com/file/d/10BO4_IqyBERHfWCSoBrL-y6nTpQJq-Sh/view?usp=share_link\n",
        "\n",
        "Draw the precipitation anomaly during the different ENSO phase.\n",
        "![link text](https://i.imgur.com/8nqwh1U.png)"
      ]
    },
    {
      "cell_type": "code",
      "execution_count": null,
      "metadata": {
        "id": "0GkLMF5w7-JU"
      },
      "outputs": [],
      "source": [
        "#----#----#----#----#----#----#\n",
        "# EX4.2: PUT YOUR CODE HERE\n",
        "#----#----#----#----#----#----#\n",
        "\n",
        "\n",
        "\n",
        "\n",
        "\n",
        "\n",
        "\n",
        "\n",
        "\n",
        "\n",
        "\n",
        "\n",
        "\n",
        "\n",
        "\n",
        "\n",
        "\n",
        "\n",
        "\n"
      ]
    }
  ],
  "metadata": {
    "colab": {
      "provenance": []
    },
    "kernelspec": {
      "display_name": "Python 3",
      "name": "python3"
    },
    "language_info": {
      "name": "python"
    }
  },
  "nbformat": 4,
  "nbformat_minor": 0
}
